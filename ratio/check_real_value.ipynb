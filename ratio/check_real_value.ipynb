{
 "cells": [
  {
   "cell_type": "code",
   "execution_count": null,
   "metadata": {},
   "outputs": [],
   "source": [
    "this notebook: 用来检查真实值"
   ]
  },
  {
   "cell_type": "code",
   "execution_count": 1,
   "metadata": {},
   "outputs": [],
   "source": [
    "\n",
    "import math\n",
    "from datetime import datetime,timedelta\n",
    "import numpy as np\n",
    "import pandas as pd\n",
    "names=locals()"
   ]
  },
  {
   "cell_type": "code",
   "execution_count": 2,
   "metadata": {},
   "outputs": [],
   "source": [
    "link_time={}\n",
    "time_train={}\n",
    "time_predict={}\n",
    "time_check={}\n",
    "test_time_train={}\n",
    "test_time_check={}\n",
    "weathers={}\n",
    "rainingTotalTime={}"
   ]
  },
  {
   "cell_type": "code",
   "execution_count": 3,
   "metadata": {},
   "outputs": [],
   "source": [
    "\n",
    "file_path='/Users/vayne/Desktop/DM_Project_0522due/dataSet_phase2/table5.csv'\n",
    "\n",
    "# Step 1: Load trajectories\n",
    "fr = open(file_path, 'r')\n",
    "fr.readline()  # skip the header\n",
    "traj_data = fr.readlines()\n",
    "fr.close()\n",
    "\n",
    "# 建立各Link時間的dictionary\n",
    "for i in range(24):\n",
    "    link_time[str(i+100)]={}\n",
    "# Step 2: Create a dictionary to store travel time for each route per time window\n",
    "travel_times = {}  # key: route_id. Value is also a dictionary of which key is the start time for the time window and value is a list of travel times\n",
    "for i in range(len(traj_data)):\n",
    "    each_traj = traj_data[i].replace('\"', '').split(',')\n",
    "    intersection_id = each_traj[0]\n",
    "    tollgate_id = each_traj[1]\n",
    "\n",
    "    route_id = intersection_id + '_' + tollgate_id\n",
    "    if route_id not in travel_times.keys():\n",
    "        travel_times[route_id] = {}\n",
    "\n",
    "    trace_start_time = each_traj[3]\n",
    "    travel_seq = each_traj[4]\n",
    "    trace_start_time = datetime.strptime(trace_start_time, \"%Y-%m-%d %H:%M:%S\")\n",
    "    time_window_minute = math.floor(trace_start_time.minute / 20) * 20\n",
    "    start_time_window = datetime(trace_start_time.year, trace_start_time.month, trace_start_time.day,\n",
    "                                     trace_start_time.hour, time_window_minute, 0)\n",
    "    time=start_time_window\n",
    "    tt = float(each_traj[-1])\n",
    "    # 國慶不管，因道路狀態不一樣\n",
    "    if(time.month==10 and time.day in [1,2,3,4,5,6,7]):\n",
    "        continue\n",
    "    # 中秋節不管，因道路狀態不一樣\n",
    "    if(time.month==9 and time.day in [15,16,17]):\n",
    "        continue\n",
    "    if start_time_window not in travel_times[route_id].keys():\n",
    "        travel_times[route_id][start_time_window] = [tt]\n",
    "    else:\n",
    "        travel_times[route_id][start_time_window].append(tt)\n",
    "    if(time.hour in [7,16]):\n",
    "        try:\n",
    "            #依序解析該筆紀錄於各link所花費的時間\n",
    "            for each_seq in travel_seq.split(';'):\n",
    "                each_seq=each_seq.split('#')\n",
    "                link_id=each_seq[0]\n",
    "                start_datetime=each_seq[1]\n",
    "                start_datetime=datetime.strptime(start_datetime, \"%Y-%m-%d %H:%M:%S\")\n",
    "                use_seconds=float(each_seq[2])\n",
    "                if(time.month*31+time.day not in link_time[link_id]):\n",
    "                    link_time[link_id][time.month*31+time.day]={}\n",
    "                if(time.hour not in link_time[link_id][time.month*31+time.day]):\n",
    "                    link_time[link_id][time.month*31+time.day][time.hour]=[]\n",
    "                    \n",
    "                link_time[link_id][time.month*31+time.day][time.hour].append(use_seconds)\n",
    "        except:pass"
   ]
  },
  {
   "cell_type": "code",
   "execution_count": 5,
   "metadata": {},
   "outputs": [
    {
     "data": {
      "text/plain": [
       "dict_keys(['B_3', 'C_1', 'A_2', 'A_3', 'C_3', 'B_1'])"
      ]
     },
     "execution_count": 5,
     "metadata": {},
     "output_type": "execute_result"
    }
   ],
   "source": [
    "travel_times.keys()"
   ]
  },
  {
   "cell_type": "code",
   "execution_count": 19,
   "metadata": {},
   "outputs": [
    {
     "data": {
      "text/plain": [
       "[129.71]"
      ]
     },
     "execution_count": 19,
     "metadata": {},
     "output_type": "execute_result"
    }
   ],
   "source": [
    "travel_times['B_3'][datetime(2016, 10, 24, 18, 20)]"
   ]
  },
  {
   "cell_type": "code",
   "execution_count": null,
   "metadata": {},
   "outputs": [],
   "source": []
  }
 ],
 "metadata": {
  "kernelspec": {
   "display_name": "Python 3",
   "language": "python",
   "name": "python3"
  },
  "language_info": {
   "codemirror_mode": {
    "name": "ipython",
    "version": 3
   },
   "file_extension": ".py",
   "mimetype": "text/x-python",
   "name": "python",
   "nbconvert_exporter": "python",
   "pygments_lexer": "ipython3",
   "version": "3.7.6"
  }
 },
 "nbformat": 4,
 "nbformat_minor": 4
}
